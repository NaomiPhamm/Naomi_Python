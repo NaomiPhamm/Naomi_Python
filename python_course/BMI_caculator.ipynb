{
 "cells": [
  {
   "cell_type": "code",
   "execution_count": null,
   "id": "faa2983a-754d-4fab-b4d9-7bb6d48cf643",
   "metadata": {},
   "outputs": [
    {
     "name": "stdout",
     "output_type": "stream",
     "text": [
      "wellcome to BMI caculator\n"
     ]
    },
    {
     "name": "stdin",
     "output_type": "stream",
     "text": [
      "Enter yours weight: 24\n",
      "ENter yours height: 34\n"
     ]
    },
    {
     "name": "stdout",
     "output_type": "stream",
     "text": [
      "BMI: 0.020761245674740483\n",
      "wellcome to BMI caculator\n"
     ]
    }
   ],
   "source": [
    "while True:\n",
    "\n",
    "    print(\"wellcome to BMI caculator\")\n",
    "    weight = float(input(\"Enter yours weight:\"))\n",
    "    height = float(input(\"ENter yours height:\"))\n",
    "    bmi = weight / (height ** 2)\n",
    "    print(\"BMI:\", bmi)"
   ]
  },
  {
   "cell_type": "code",
   "execution_count": null,
   "id": "610b9d22-cf2f-4f7b-9d16-0d4c0b8b411a",
   "metadata": {},
   "outputs": [],
   "source": []
  }
 ],
 "metadata": {
  "kernelspec": {
   "display_name": "Python 3 (ipykernel)",
   "language": "python",
   "name": "python3"
  },
  "language_info": {
   "codemirror_mode": {
    "name": "ipython",
    "version": 3
   },
   "file_extension": ".py",
   "mimetype": "text/x-python",
   "name": "python",
   "nbconvert_exporter": "python",
   "pygments_lexer": "ipython3",
   "version": "3.12.4"
  }
 },
 "nbformat": 4,
 "nbformat_minor": 5
}
