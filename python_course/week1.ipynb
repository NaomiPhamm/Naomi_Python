{
 "cells": [
  {
   "cell_type": "code",
   "execution_count": 5,
   "id": "5741a5d9-6657-4694-96f9-40661bb4984a",
   "metadata": {},
   "outputs": [],
   "source": [
    "first_name = \" bobby\"\n",
    "last_name =\"comolly\""
   ]
  },
  {
   "cell_type": "code",
   "execution_count": 7,
   "id": "0b5a8138-bf8e-4fe1-918a-74f00f055856",
   "metadata": {},
   "outputs": [
    {
     "data": {
      "text/plain": [
       "' bobby'"
      ]
     },
     "execution_count": 7,
     "metadata": {},
     "output_type": "execute_result"
    }
   ],
   "source": [
    "print(first_name)"
   ]
  },
  {
   "cell_type": "code",
   "execution_count": 9,
   "id": "fcc29b6b-7dd9-4840-bb4e-409055e7750d",
   "metadata": {},
   "outputs": [],
   "source": [
    "first_name=\"ginger\""
   ]
  },
  {
   "cell_type": "code",
   "execution_count": 11,
   "id": "e6976df5-016e-4c58-a9fc-13c3a5ab2070",
   "metadata": {},
   "outputs": [
    {
     "data": {
      "text/plain": [
       "'ginger'"
      ]
     },
     "execution_count": 11,
     "metadata": {},
     "output_type": "execute_result"
    }
   ],
   "source": [
    "first_name"
   ]
  },
  {
   "cell_type": "code",
   "execution_count": 13,
   "id": "eaf0381b-772d-4389-844d-4bf190664aa8",
   "metadata": {},
   "outputs": [
    {
     "name": "stdout",
     "output_type": "stream",
     "text": [
      "<class 'int'>\n"
     ]
    }
   ],
   "source": [
    "print(type(42))"
   ]
  },
  {
   "cell_type": "code",
   "execution_count": 15,
   "id": "674e30f7-486d-4fb1-a7f0-db931580d1d3",
   "metadata": {},
   "outputs": [
    {
     "name": "stdout",
     "output_type": "stream",
     "text": [
      "<class 'float'>\n"
     ]
    }
   ],
   "source": [
    "print(type(3.14))"
   ]
  },
  {
   "cell_type": "code",
   "execution_count": null,
   "id": "2154fa4a-bfb0-4a71-8e54-85039d852731",
   "metadata": {},
   "outputs": [],
   "source": [
    "print(type("
   ]
  },
  {
   "cell_type": "code",
   "execution_count": null,
   "id": "929ab1f5-d174-4334-9d26-3b12ab5ecf32",
   "metadata": {},
   "outputs": [],
   "source": []
  }
 ],
 "metadata": {
  "kernelspec": {
   "display_name": "Python 3 (ipykernel)",
   "language": "python",
   "name": "python3"
  },
  "language_info": {
   "codemirror_mode": {
    "name": "ipython",
    "version": 3
   },
   "file_extension": ".py",
   "mimetype": "text/x-python",
   "name": "python",
   "nbconvert_exporter": "python",
   "pygments_lexer": "ipython3",
   "version": "3.12.4"
  }
 },
 "nbformat": 4,
 "nbformat_minor": 5
}
