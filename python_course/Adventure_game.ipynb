{
 "cells": [
  {
   "cell_type": "code",
   "execution_count": 3,
   "id": "67c322ac-f3b3-46ce-88fd-8955219b47ab",
   "metadata": {},
   "outputs": [
    {
     "name": "stdout",
     "output_type": "stream",
     "text": [
      "Magic Wand has been added to your inventory.\n",
      "Your inventory contains:\n",
      "- Magic Wand\n"
     ]
    }
   ],
   "source": [
    "# Add this at the beginning of your script\n",
    "inventory = [ ]\n",
    "\n",
    "def add_to_inventory(item):\n",
    "    inventory.append(item)\n",
    "    print(f\"{item} has been added to your inventory.\")\n",
    "\n",
    "def display_inventory():\n",
    "    if inventory:\n",
    "        print(\"Your inventory contains:\")\n",
    "        for item in inventory:\n",
    "            print(f\"- {item}\")\n",
    "    else:\n",
    "        print(\"Your inventory is empty.\")\n",
    "\n",
    "# Example usage:\n",
    "add_to_inventory(\"Magic Wand\")\n",
    "add_to_inventory(\"HP   \")\n",
    "display_inventory()\n",
    "        "
   ]
  },
  {
   "cell_type": "code",
   "execution_count": null,
   "id": "28b2fe50-4f5b-4d1e-9427-0138b15ceec1",
   "metadata": {},
   "outputs": [],
   "source": [
    "def forest_event():\n",
    "    events = [\n",
    "        \"You encounter a friendly squirrel.\",\n",
    "        \"You find a shiny gold coin.\",\n",
    "        \"You hear strange whispers in the wind.\",\n",
    "        \"You stumble upon an old, forgotten treasure chest.\",\n",
    "        \"You see a glimpse of a unicorn in the distance.\",\n",
    "        \"You find a mysterious glowing stone.\",\n",
    "        \"You discover an ancient map fragment.\"\n",
    "    ]\n",
    "    event = random.choice(events)\n",
    "    print(event)\n",
    "    \n",
    "    # Add items to inventory for certain events\n",
    "    if \"coin\" in event:\n",
    "        add_to_inventory(\"Gold Coin\")\n",
    "    elif \"treasure chest\" in event:\n",
    "        add_to_inventory(\"Rusty Key\")\n",
    "    elif \"glowing stone\" in event:\n",
    "        add_to_inventory(\"Mysterious Stone\")\n",
    "    elif \"map fragment\" in event:\n",
    "        add_to_inventory(\"Map Fragment\")\n",
    "\n",
    "# Make sure to call display_inventory() at appropriate points in your game\n",
    "        "
   ]
  }
 ],
 "metadata": {
  "kernelspec": {
   "display_name": "Python 3 (ipykernel)",
   "language": "python",
   "name": "python3"
  },
  "language_info": {
   "codemirror_mode": {
    "name": "ipython",
    "version": 3
   },
   "file_extension": ".py",
   "mimetype": "text/x-python",
   "name": "python",
   "nbconvert_exporter": "python",
   "pygments_lexer": "ipython3",
   "version": "3.12.4"
  }
 },
 "nbformat": 4,
 "nbformat_minor": 5
}
