{
 "cells": [
  {
   "cell_type": "code",
   "execution_count": 9,
   "id": "434035ab-d34c-41a1-adb9-fb640e1fc04c",
   "metadata": {},
   "outputs": [],
   "source": [
    "# shopping_cart = [\"shoes\"] #square brackets\n",
    "# def process_order(shopping_cart,is_expedited):\n",
    "#     expedited_description = \"expedited\" if is_expedited else\"\" #ternary expression\n",
    "#     #the next 2 statements are the same as the line above\n",
    "#     expedited_description=\"\"\n",
    "#     if is_expedited\n",
    "#     print(f\"shopping cart: {shopping_cart} {expedited_description}\")\n",
    "#     if len(shopping_cart)== 0:\n",
    "#         print(\"shopping cart is empty,aborting...\")\n",
    "#         return\n",
    "#     print(\"processing order\")\n",
    "# process_order(shopping_cart=[\"hat\", \"gloves\"],is_expedited= False)\n",
    "# process_order([\"hat\", \"gloves\"],is_expedited= False)\n",
    "\n",
    "        "
   ]
  },
  {
   "cell_type": "code",
   "execution_count": null,
   "id": "25ba28a6-a0cf-40cb-aae0-afe7beacba6d",
   "metadata": {},
   "outputs": [],
   "source": []
  },
  {
   "cell_type": "code",
   "execution_count": 46,
   "id": "291b341c-05c7-4ce6-8a13-6d1be3f90779",
   "metadata": {},
   "outputs": [],
   "source": [
    "import random\n",
    "\n",
    "def forest_event():\n",
    "    events = [\n",
    "        \"You encounter a friendly squirrel\",\n",
    "        \"You find a shiny gold coin\",\n",
    "        \"You hear strange whispers in the wind\",\n",
    "        \"You stumble upon an old, forgotten treasure chest\",\n",
    "        \"You see a glimpse of a unicorn in the distance\"\n",
    "    ]\n",
    "    return random.choice(events)\n",
    "\n",
    "\n"
   ]
  },
  {
   "cell_type": "code",
   "execution_count": 50,
   "id": "059c78fc-bc49-453b-ae43-395176f4cebb",
   "metadata": {},
   "outputs": [
    {
     "name": "stdout",
     "output_type": "stream",
     "text": [
      "You stumble upon an old, forgotten treasure chest\n"
     ]
    }
   ],
   "source": [
    "\n",
    "print(forest_event())"
   ]
  },
  {
   "cell_type": "code",
   "execution_count": null,
   "id": "5f413c0f-55ad-4834-9880-e432b84eb145",
   "metadata": {},
   "outputs": [],
   "source": [
    "gamestate = forest_event()\n",
    "gamestate"
   ]
  },
  {
   "cell_type": "code",
   "execution_count": null,
   "id": "4b853a35-961d-4f9b-8e99-75959728ab55",
   "metadata": {},
   "outputs": [],
   "source": [
    "def gameloop():\n",
    "    while True:\n",
    "        get_user_input()\n",
    "        update_game_state()\n",
    "        # display_choices()"
   ]
  },
  {
   "cell_type": "code",
   "execution_count": null,
   "id": "9620dffd-338f-4bbb-9212-c94b4e206e9e",
   "metadata": {},
   "outputs": [],
   "source": []
  },
  {
   "cell_type": "code",
   "execution_count": 58,
   "id": "1bc98121-0bc3-4fb2-bd81-456b67aa13b2",
   "metadata": {},
   "outputs": [
    {
     "ename": "IndentationError",
     "evalue": "expected an indented block after 'if' statement on line 4 (2631838136.py, line 5)",
     "output_type": "error",
     "traceback": [
      "\u001b[1;36m  Cell \u001b[1;32mIn[58], line 5\u001b[1;36m\u001b[0m\n\u001b[1;33m    if user_action == \"3\":\u001b[0m\n\u001b[1;37m    ^\u001b[0m\n\u001b[1;31mIndentationError\u001b[0m\u001b[1;31m:\u001b[0m expected an indented block after 'if' statement on line 4\n"
     ]
    }
   ],
   "source": [
    "def update_game_state():\n",
    "    if user_action == \"1\":\n",
    "       gamestate = forest_event()\n",
    "    if user_action == \"2\":\n",
    "    if user_action == \"3\":\n",
    "        "
   ]
  },
  {
   "cell_type": "code",
   "execution_count": null,
   "id": "7e654c9b-768f-4a5a-9f14-9e6fc9e7af72",
   "metadata": {},
   "outputs": [],
   "source": [
    "def get_user_input():\n",
    "    user_action(\"Here are your choices:1) Walk, 2)Stay,3)Pickup\")"
   ]
  },
  {
   "cell_type": "code",
   "execution_count": 40,
   "id": "2bbb3927-d67b-45be-a5f2-2372c655d960",
   "metadata": {},
   "outputs": [],
   "source": [
    "def into():\n",
    "    print(\"Wellcome to the Mystic Forest Adventure\")\n",
    "    print(\"You find yourself at the entrance of dark, mysterious forest.\")\n",
    "    return(\"Do yuo want to enter?(yes/no): \" )"
   ]
  },
  {
   "cell_type": "code",
   "execution_count": null,
   "id": "0a7ad520-b33c-411f-80fb-dee225b5782f",
   "metadata": {},
   "outputs": [],
   "source": [
    "def play_game():\n",
    "    if intro() == \"yes\":"
   ]
  },
  {
   "cell_type": "code",
   "execution_count": null,
   "id": "2b34e298-4f08-4255-9580-8f273a3d3667",
   "metadata": {},
   "outputs": [],
   "source": []
  },
  {
   "cell_type": "code",
   "execution_count": null,
   "id": "c8b6a82e-be3a-494f-ab44-330df9c1c2d3",
   "metadata": {},
   "outputs": [],
   "source": []
  }
 ],
 "metadata": {
  "kernelspec": {
   "display_name": "Python 3 (ipykernel)",
   "language": "python",
   "name": "python3"
  },
  "language_info": {
   "codemirror_mode": {
    "name": "ipython",
    "version": 3
   },
   "file_extension": ".py",
   "mimetype": "text/x-python",
   "name": "python",
   "nbconvert_exporter": "python",
   "pygments_lexer": "ipython3",
   "version": "3.12.4"
  }
 },
 "nbformat": 4,
 "nbformat_minor": 5
}
