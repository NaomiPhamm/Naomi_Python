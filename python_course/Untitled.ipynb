{
 "cells": [
  {
   "cell_type": "code",
   "execution_count": null,
   "id": "0761a890-1973-42b0-8b14-9ab7a5284aa4",
   "metadata": {},
   "outputs": [
    {
     "name": "stdin",
     "output_type": "stream",
     "text": [
      "Choose a difficulty level: easy (1-50), medium (1-100), hard (1-200):  easy\n",
      "Please enter a number between 1 and 50:  ă\n"
     ]
    },
    {
     "name": "stdout",
     "output_type": "stream",
     "text": [
      "Invalid input. Please enter a valid number.\n"
     ]
    },
    {
     "name": "stdin",
     "output_type": "stream",
     "text": [
      "Please enter a number between 1 and 50:  1\n"
     ]
    },
    {
     "name": "stdout",
     "output_type": "stream",
     "text": [
      "Too low!\n"
     ]
    },
    {
     "name": "stdin",
     "output_type": "stream",
     "text": [
      "Please enter a number between 1 and 50:  5\n"
     ]
    },
    {
     "name": "stdout",
     "output_type": "stream",
     "text": [
      "Too low!\n",
      "Getting warmer!\n"
     ]
    },
    {
     "name": "stdin",
     "output_type": "stream",
     "text": [
      "Please enter a number between 1 and 50:  10\n"
     ]
    },
    {
     "name": "stdout",
     "output_type": "stream",
     "text": [
      "Too low!\n",
      "Getting warmer!\n"
     ]
    },
    {
     "name": "stdin",
     "output_type": "stream",
     "text": [
      "Please enter a number between 1 and 50:  20\n"
     ]
    },
    {
     "name": "stdout",
     "output_type": "stream",
     "text": [
      "Too low!\n",
      "Getting warmer!\n"
     ]
    },
    {
     "name": "stdin",
     "output_type": "stream",
     "text": [
      "Please enter a number between 1 and 50:  30\n"
     ]
    },
    {
     "name": "stdout",
     "output_type": "stream",
     "text": [
      "Too low!\n",
      "Getting warmer!\n"
     ]
    },
    {
     "name": "stdin",
     "output_type": "stream",
     "text": [
      "Please enter a number between 1 and 50:  40\n"
     ]
    },
    {
     "name": "stdout",
     "output_type": "stream",
     "text": [
      "Too high!\n",
      "Getting warmer!\n"
     ]
    },
    {
     "name": "stdin",
     "output_type": "stream",
     "text": [
      "Please enter a number between 1 and 50:  39\n"
     ]
    },
    {
     "name": "stdout",
     "output_type": "stream",
     "text": [
      "Too high!\n",
      "Getting warmer!\n"
     ]
    },
    {
     "name": "stdin",
     "output_type": "stream",
     "text": [
      "Please enter a number between 1 and 50:  35\n"
     ]
    },
    {
     "name": "stdout",
     "output_type": "stream",
     "text": [
      "Too low!\n",
      "Getting colder!\n"
     ]
    },
    {
     "name": "stdin",
     "output_type": "stream",
     "text": [
      "Please enter a number between 1 and 50:  36\n"
     ]
    },
    {
     "name": "stdout",
     "output_type": "stream",
     "text": [
      "Too low!\n",
      "Getting warmer!\n"
     ]
    },
    {
     "name": "stdin",
     "output_type": "stream",
     "text": [
      "Please enter a number between 1 and 50:  37\n"
     ]
    },
    {
     "name": "stdout",
     "output_type": "stream",
     "text": [
      "Too low!\n",
      "Getting warmer!\n",
      "Game over! You've used all 10 tries. The magic number was 38.\n"
     ]
    },
    {
     "name": "stdin",
     "output_type": "stream",
     "text": [
      "Would you like to play again? (yes/no):  yes\n",
      "Choose a difficulty level: easy (1-50), medium (1-100), hard (1-200):  easy\n",
      "Please enter a number between 1 and 50:  20\n"
     ]
    },
    {
     "name": "stdout",
     "output_type": "stream",
     "text": [
      "Too low!\n"
     ]
    },
    {
     "name": "stdin",
     "output_type": "stream",
     "text": [
      "Please enter a number between 1 and 50:  40\n"
     ]
    },
    {
     "name": "stdout",
     "output_type": "stream",
     "text": [
      "Too low!\n",
      "Getting warmer!\n"
     ]
    },
    {
     "name": "stdin",
     "output_type": "stream",
     "text": [
      "Please enter a number between 1 and 50:  45\n"
     ]
    },
    {
     "name": "stdout",
     "output_type": "stream",
     "text": [
      "Too low!\n",
      "Getting warmer!\n"
     ]
    },
    {
     "name": "stdin",
     "output_type": "stream",
     "text": [
      "Please enter a number between 1 and 50:  55\n"
     ]
    },
    {
     "name": "stdout",
     "output_type": "stream",
     "text": [
      "Too high!\n",
      "Getting colder!\n"
     ]
    },
    {
     "name": "stdin",
     "output_type": "stream",
     "text": [
      "Please enter a number between 1 and 50:  53\n"
     ]
    },
    {
     "name": "stdout",
     "output_type": "stream",
     "text": [
      "Too high!\n",
      "Getting warmer!\n"
     ]
    },
    {
     "name": "stdin",
     "output_type": "stream",
     "text": [
      "Please enter a number between 1 and 50:  49\n"
     ]
    },
    {
     "name": "stdout",
     "output_type": "stream",
     "text": [
      "Too low!\n",
      "Getting warmer!\n"
     ]
    },
    {
     "name": "stdin",
     "output_type": "stream",
     "text": [
      "Please enter a number between 1 and 50:  50\n"
     ]
    },
    {
     "name": "stdout",
     "output_type": "stream",
     "text": [
      "Congrats! You've guessed the magic number 50 in 7 tries.\n",
      "Your score for this round is: 30\n"
     ]
    }
   ],
   "source": [
    "import random\n",
    "\n",
    "def start_game():\n",
    "    wins, losses = 0, 0\n",
    "\n",
    "   def get_difficulty():\n",
    "        print(\"Choose a difficulty level:\")\n",
    "        print(\"1. Easy (1-50)\")\n",
    "        print(\"2. Medium (1-100)\")\n",
    "        print(\"3. Hard (1-200)\")\n",
    "        \n",
    "        while True:\n",
    "            try:\n",
    "                choice = int(input(\"Enter 1, 2, or 3: \"))\n",
    "                if choice == 1:\n",
    "                    return 50\n",
    "                elif choice == 2:\n",
    "                    return 100\n",
    "                elif choice == 3:\n",
    "                    return 200\n",
    "                else:\n",
    "                    print(\"Invalid choice. Please select 1, 2, or 3.\")\n",
    "            except ValueError:\n",
    "                print(\"Invalid input. Please enter a number.\")\n",
    "    \n",
    "    # Function for the guessing logic\n",
    "    def guessing_game(upper_limit):\n",
    "        magic_num = random.randint(1, upper_limit)\n",
    "        tries = 0\n",
    "        max_tries = 10  \n",
    "        last_guess = None\n",
    "        score = 100\n",
    "        \n",
    "        while tries < max_tries:\n",
    "            try:\n",
    "                guess = int(input(f\"Please enter a number between 1 and {upper_limit}: \"))\n",
    "            except:\n",
    "                print(\"Invalid input. Please enter a valid number.\")\n",
    "                continue\n",
    "            \n",
    "            tries += 1\n",
    "            \n",
    "            if guess < magic_num:\n",
    "                print(\"Too low!\")\n",
    "            elif guess > magic_num:\n",
    "                print(\"Too high!\")\n",
    "            else:\n",
    "                print(f\"Congrats! You've guessed the magic number {magic_num} in {tries} tries.\")\n",
    "                return True, score - (tries * 10)  \n",
    "            \n",
    "            # Provide warmer/colder hints\n",
    "            if last_guess is not None:\n",
    "                if abs(magic_num - guess) < abs(magic_num - last_guess):\n",
    "                    print(\"Getting warmer!\")\n",
    "                else:\n",
    "                    print(\"Getting colder!\")\n",
    "            \n",
    "            last_guess = guess\n",
    "\n",
    "        print(f\"Game over! You've used all {max_tries} tries. The magic number was {magic_num}.\")\n",
    "        return False, 0  \n",
    "    \n",
    "    # Main loop for the game\n",
    "    while True:\n",
    "        upper_limit = choose_difficulty()\n",
    "        win, score = guessing_game(upper_limit)\n",
    "        \n",
    "        if win:\n",
    "            print(f\"Your score for this round is: {score}\")\n",
    "            wins += 1\n",
    "        else:\n",
    "            losses += 1\n",
    "        \n",
    "        play_again = input(\"Would you like to play again? (yes/no): \").lower()\n",
    "        if play_again != 'yes':\n",
    "            print(f\"Game over. You won {wins} times and lost {losses} times.\")\n",
    "            break\n",
    "\n",
    "start_game()\n"
   ]
  },
  {
   "cell_type": "code",
   "execution_count": null,
   "id": "2c26a5ad-04a8-4dfe-ab3f-1a3f566d1da3",
   "metadata": {},
   "outputs": [],
   "source": [
    "import random\n",
    "\n",
    "def start_game():\n",
    "    def get_difficulty():\n",
    "        print(\"Choose a difficulty level:\")\n",
    "        print(\"1. Easy (1-50)\")\n",
    "        print(\"2. Medium (1-100)\")\n",
    "        print(\"3. Hard (1-200)\")\n",
    "        \n",
    "        while True:\n",
    "            try:\n",
    "                choice = int(input(\"Enter 1, 2, or 3: \"))\n",
    "                if choice == 1:\n",
    "                    return 50\n",
    "                elif choice == 2:\n",
    "                    return 100\n",
    "                elif choice == 3:\n",
    "                    return 200\n",
    "                else:\n",
    "                    print(\"Invalid choice. Please select 1, 2, or 3.\")\n",
    "            except ValueError:\n",
    "                print(\"Invalid input. Please enter a number.\")\n",
    "    \n",
    "    def provide_hint(guess, magic_num, prev_guess):\n",
    "        if prev_guess is None:\n",
    "            return \"\"\n",
    "        if abs(guess - magic_num) < abs(prev_guess - magic_num):\n",
    "            return \"Getting warmer!\"\n",
    "        else:\n",
    "            return \"Getting colder!\"\n",
    "\n",
    "    play_again = True\n",
    "    wins, losses = 0, 0\n",
    "\n",
    "    while play_again:\n",
    "        # Step 1: Set difficulty\n",
    "        upper_limit = get_difficulty()\n",
    "        magic_num = random.randint(1, upper_limit)\n",
    "        tries = 0\n",
    "        max_tries = 7\n",
    "        score = 100\n",
    "        prev_guess = None\n",
    "        guessed_correctly = False\n",
    "        \n",
    "        print(f\"Guess the number between 1 and {upper_limit}! You have {max_tries} attempts.\")\n",
    "\n",
    "        while tries < max_tries:\n",
    "            try:\n",
    "                guess = int(input(f\"Attempt {tries + 1}/{max_tries}: Please enter your guess: \"))\n",
    "                tries += 1\n",
    "                score -= 10\n",
    "                \n",
    "                if guess < 1 or guess > upper_limit:\n",
    "                    print(f\"Your guess must be between 1 and {upper_limit}. Try again.\")\n",
    "                    continue\n",
    "                \n",
    "                hint = provide_hint(guess, magic_num, prev_guess)\n",
    "                if hint:\n",
    "                    print(hint)\n",
    "                \n",
    "                prev_guess = guess\n",
    "\n",
    "                if guess < magic_num:\n",
    "                    print(\"Too low.\")\n",
    "                elif guess > magic_num:\n",
    "                    print(\"Too high.\")\n",
    "                else:\n",
    "                    print(f\"Hooray! You guessed the number in {tries} tries! Your score is {score}.\")\n",
    "                    guessed_correctly = True\n",
    "                    wins += 1\n",
    "                    break\n",
    "            except ValueError:\n",
    "                print(\"Invalid input. Please enter a number.\")\n",
    "\n",
    "        if not guessed_correctly:\n",
    "            print(f\"Game over! The correct number was {magic_num}.\")\n",
    "            losses += 1\n",
    "\n",
    "        print(f\"Wins: {wins}, Losses: {losses}\")\n",
    "\n",
    "        # Ask to play again\n",
    "        play_again_response = input(\"Do you want to play again? (y/n): \").lower()\n",
    "        play_again = play_again_response == 'y'\n",
    "\n",
    "    print(\"Thanks for playing!\")\n",
    "\n",
    "# Start the game\n",
    "start_game()\n"
   ]
  },
  {
   "cell_type": "code",
   "execution_count": null,
   "id": "5103ca0e-c250-4b87-9098-0edf6bc8e546",
   "metadata": {},
   "outputs": [],
   "source": []
  },
  {
   "cell_type": "code",
   "execution_count": null,
   "id": "610426ff-220f-4436-b263-7de3570b6d29",
   "metadata": {},
   "outputs": [],
   "source": []
  },
  {
   "cell_type": "code",
   "execution_count": null,
   "id": "74a8c3f3-24e6-4914-bade-fc32ca8614ab",
   "metadata": {},
   "outputs": [],
   "source": []
  },
  {
   "cell_type": "code",
   "execution_count": null,
   "id": "f15966fd-2965-4fda-a182-c206c4d7db27",
   "metadata": {},
   "outputs": [],
   "source": []
  }
 ],
 "metadata": {
  "kernelspec": {
   "display_name": "Python 3 (ipykernel)",
   "language": "python",
   "name": "python3"
  },
  "language_info": {
   "codemirror_mode": {
    "name": "ipython",
    "version": 3
   },
   "file_extension": ".py",
   "mimetype": "text/x-python",
   "name": "python",
   "nbconvert_exporter": "python",
   "pygments_lexer": "ipython3",
   "version": "3.12.4"
  }
 },
 "nbformat": 4,
 "nbformat_minor": 5
}
