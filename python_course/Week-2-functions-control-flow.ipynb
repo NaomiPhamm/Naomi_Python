{
 "cells": [
  {
   "cell_type": "code",
   "execution_count": 5,
   "id": "d0d44b6e-c568-49fd-8c78-ca6c01fe56d1",
   "metadata": {},
   "outputs": [
    {
     "name": "stdout",
     "output_type": "stream",
     "text": [
      "<class 'int'>\n"
     ]
    }
   ],
   "source": [
    "my_int =3\n",
    "my_str = str(my_int)\n",
    "my_type_str= type(my_str +\"hi\")\n",
    "\n",
    "print(type(my_int))"
   ]
  },
  {
   "cell_type": "code",
   "execution_count": null,
   "id": "5427662c-4089-4218-af60-26a3ac2eed85",
   "metadata": {},
   "outputs": [],
   "source": [
    "# This is my calculator below"
   ]
  },
  {
   "cell_type": "code",
   "execution_count": null,
   "id": "8346a9f0-33de-4535-8adb-edb07b79c992",
   "metadata": {},
   "outputs": [
    {
     "name": "stdin",
     "output_type": "stream",
     "text": [
      "Which operation do you want? (+, -, *, /) +\n"
     ]
    },
    {
     "name": "stdout",
     "output_type": "stream",
     "text": [
      "you done good\n"
     ]
    }
   ],
   "source": [
    "\n",
    "# ctrl+d: take the function on the same line\n",
    "# chon doan code can thiet nha tab button de tu dong dua vao mot function khac\n",
    "#alt+ nut keo len xuong\n",
    "\n",
    "while True:\n",
    "        operation = input(\"Which operation do you want? (+, -, *, /)\")\n",
    "        if operation == \"+\" or operation == \"-\" or operation == \"*\" or operation == \"/\":\n",
    "            print(\"you done good\")\n",
    "            break\n",
    "        else:\n",
    "            print(\"you done bad\")\n",
    "\n",
    "operand_A = float(input(\"What's the first operand?\"))\n",
    "operand_B = float(input(\"What's the second operand?\"))\n",
    "\n",
    "if operation == \"+\":\n",
    "    print(operand_A + operand_B)\n",
    "elif operation == \"-\":\n",
    "    print(operand_A - operand_B)\n",
    "elif operation == \"*\":\n",
    "    print(operand_A * operand_B)\n",
    "else:\n",
    "    print(operand_A / operand_B)\n",
    "                       \n",
    "\n",
    "# if op != \"+\" and op !=\"-\"  and op !=\"*\" and op !=\"/\":\n",
    "#     print(\"you done bad\")\n",
    "# else:\n",
    "#     print(\"you done good\")\n",
    "   # print(\"we are our of the loop,whew!\")"
   ]
  },
  {
   "cell_type": "code",
   "execution_count": 9,
   "id": "1a71c616-15f1-4b74-b65a-feff3fc90042",
   "metadata": {},
   "outputs": [
    {
     "name": "stdout",
     "output_type": "stream",
     "text": [
      "its normal\n"
     ]
    }
   ],
   "source": [
    "temperature = 25\n",
    "if temperature > 30:\n",
    "    print (\"its hot\" )\n",
    "else:\n",
    "    print (\"its normal\" )\n",
    "\n"
   ]
  },
  {
   "cell_type": "code",
   "execution_count": null,
   "id": "e246fff0-3660-4f8a-a897-197fd46c1ba1",
   "metadata": {},
   "outputs": [],
   "source": [
    "#Ternary\n",
    "weather_description"
   ]
  },
  {
   "cell_type": "code",
   "execution_count": 15,
   "id": "c9cf4afd-7f77-49ce-9004-870365ba5cae",
   "metadata": {},
   "outputs": [
    {
     "name": "stdout",
     "output_type": "stream",
     "text": [
      "its normal\n"
     ]
    }
   ],
   "source": [
    "temperature = 25\n",
    "if temperature > 30:\n",
    "    weather_description =\"its hot\" \n",
    "else:\n",
    "    weather_description =\"its normal\" \n",
    "    \n",
    "    print (weather_description)\n",
    "\n"
   ]
  },
  {
   "cell_type": "code",
   "execution_count": 21,
   "id": "5ce69c6e-a30e-4faf-9abd-3d3ba7ddb818",
   "metadata": {},
   "outputs": [
    {
     "data": {
      "text/plain": [
       "'its normal'"
      ]
     },
     "execution_count": 21,
     "metadata": {},
     "output_type": "execute_result"
    }
   ],
   "source": [
    "temperature = 25\n",
    "weather_description = \"its hot\" if temperature > 30 else \"its normal\"\n",
    "weather_description"
   ]
  },
  {
   "cell_type": "code",
   "execution_count": 25,
   "id": "21d2fbf8-4685-4994-8d4c-3710d6a75fc3",
   "metadata": {},
   "outputs": [
    {
     "name": "stdout",
     "output_type": "stream",
     "text": [
      "1\n",
      "2\n",
      "3\n",
      "4\n",
      "5\n",
      "6\n",
      "7\n",
      "finished\n"
     ]
    }
   ],
   "source": [
    "for  i in range(7):\n",
    "    print(i+1)\n",
    "    \n",
    "print(\"finished\")\n",
    "    "
   ]
  },
  {
   "cell_type": "code",
   "execution_count": null,
   "id": "a76dfe18-a5c5-408b-81a0-25c13cbb75dc",
   "metadata": {},
   "outputs": [],
   "source": [
    "attempts = 0\n",
    "while attempts < 3:\n",
    "    password = input(\"Enter password: \")\n",
    "    if password == \"secret\":\n",
    "        print(\"Access granted!\")\n",
    "        break\n",
    "        attempts += 1\n",
    "    else:\n",
    "        print(\"Access denied. Too many attempts.\")\n",
    "    print(\"here\")"
   ]
  },
  {
   "cell_type": "code",
   "execution_count": null,
   "id": "d03e61da-18b1-4e73-a867-dfa9ee309294",
   "metadata": {},
   "outputs": [],
   "source": []
  },
  {
   "cell_type": "code",
   "execution_count": null,
   "id": "dc2f9af9-de08-4590-ae79-58d2d2efabe1",
   "metadata": {},
   "outputs": [],
   "source": []
  },
  {
   "cell_type": "code",
   "execution_count": null,
   "id": "6598a6e1-8da1-4f31-9394-bf10a8010f1f",
   "metadata": {},
   "outputs": [],
   "source": []
  }
 ],
 "metadata": {
  "kernelspec": {
   "display_name": "Python 3 (ipykernel)",
   "language": "python",
   "name": "python3"
  },
  "language_info": {
   "codemirror_mode": {
    "name": "ipython",
    "version": 3
   },
   "file_extension": ".py",
   "mimetype": "text/x-python",
   "name": "python",
   "nbconvert_exporter": "python",
   "pygments_lexer": "ipython3",
   "version": "3.12.4"
  }
 },
 "nbformat": 4,
 "nbformat_minor": 5
}
