{
 "cells": [
  {
   "cell_type": "code",
   "execution_count": null,
   "id": "c18f1cc0-145e-410b-89bf-5f3319099d7b",
   "metadata": {},
   "outputs": [],
   "source": [
    "import time \n",
    "\n",
    "print(\"Initiating launch sequence\")\n",
    "for i in  range(10,0,-1):\n",
    "    print(f\"launching in {i} seconds\")\n",
    "    time.sleep(1)\n",
    "print(\"liftoff !!!\")\n",
    "\n"
   ]
  },
  {
   "cell_type": "code",
   "execution_count": null,
   "id": "87197156-cfac-49c6-8025-a3a71acd94bc",
   "metadata": {},
   "outputs": [],
   "source": [
    "#GUess the number game\n",
    "# In this game, we pick a random number between 1 and N, where N is the upper limit\n",
    "#Then we ask the user to pick a number, and we tell user if they are high or low\n",
    "#user wun the game if they guess the correct number\n"
   ]
  },
  {
   "cell_type": "code",
   "execution_count": null,
   "id": "a10cfda6-bc76-4629-92f8-55f68a93c08e",
   "metadata": {},
   "outputs": [],
   "source": [
    "import random\n",
    "\n",
    "def start_game():\n",
    "    is_debug_mode = True\n",
    "    upper_limit = 3 if is_debug_mode else 101\n",
    "    \n",
    "    magic_num = random.randint(1,upper_limit)\n",
    "    while True:\n",
    "        try:\n",
    "            guess = int(input(f\"Please enter a number between {1} and {upper_limit}\"))\n",
    "        except:\n",
    "            print(\"invalid input\")\n",
    "            continue \n",
    "        \n",
    "        if guess < magic_num:\n",
    "            print(\"you guessed low\")\n",
    "        elif guess >magic_num:\n",
    "            print(\"you guessed high\")\n",
    "        else:\n",
    "            print(\"horray! you got it!\")\n",
    "            break\n",
    "    print(\"exited loop\")\n",
    "start_game()"
   ]
  },
  {
   "cell_type": "code",
   "execution_count": null,
   "id": "62b89cd4-7c81-4760-84ca-cc47c51690cb",
   "metadata": {},
   "outputs": [],
   "source": []
  },
  {
   "cell_type": "code",
   "execution_count": null,
   "id": "c401359f-c2e1-443a-a41b-f93be0c2056f",
   "metadata": {},
   "outputs": [],
   "source": []
  },
  {
   "cell_type": "code",
   "execution_count": null,
   "id": "26ed47ca-bbd4-4193-8424-252ed9b9d353",
   "metadata": {},
   "outputs": [],
   "source": []
  },
  {
   "cell_type": "code",
   "execution_count": null,
   "id": "2e9f21bd-519d-49df-a3c5-acfbd7e7d47f",
   "metadata": {},
   "outputs": [],
   "source": []
  }
 ],
 "metadata": {
  "kernelspec": {
   "display_name": "Python 3 (ipykernel)",
   "language": "python",
   "name": "python3"
  },
  "language_info": {
   "codemirror_mode": {
    "name": "ipython",
    "version": 3
   },
   "file_extension": ".py",
   "mimetype": "text/x-python",
   "name": "python",
   "nbconvert_exporter": "python",
   "pygments_lexer": "ipython3",
   "version": "3.12.4"
  }
 },
 "nbformat": 4,
 "nbformat_minor": 5
}
