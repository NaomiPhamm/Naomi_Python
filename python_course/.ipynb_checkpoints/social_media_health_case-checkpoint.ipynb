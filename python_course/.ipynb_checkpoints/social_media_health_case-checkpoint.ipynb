{
 "cells": [
  {
   "cell_type": "code",
   "execution_count": null,
   "id": "1ff2fb5e-37a2-4f5f-b0ca-851ab387fc34",
   "metadata": {},
   "outputs": [],
   "source": [
    "social_media_time = [178, 203, 154, 74, 158, 129, 237, 86, 210, 103, 26, 156, 173, 73, 233, 228, 105, 33, 151, 178, 98, 83, 160, 179, 50, 124, 71, 43, 217, 134, 156, 207, 102, 199, 210, 230, 54, 150, 140, 221, 76, 32, 47, 170, 153, 110, 130, 156, 16, 23, 75, 240, 77, 125, 134, 118, 42, 61, 238, 27, 38, 117, 15, 123, 139, 203, 95, 150, 145, 235, 160, 183, 95, 116, 91, 132, 40, 104, 109, 171, 224, 49, 42, 102, 233, 28, 227, 82, 156, 191, 228, 93, 218, 41, 238, 75, 222, 100, 236, 238]\n",
    "\n",
    "mood_scores = [2, 1, 1, 9, 2, 6, 1, 2, 5, 10, 5, 2, 3, 4, 3, 3, 3, 9, 3, 8, 1, 2, 4, 7, 4, 7, 3, 3, 4, 6, 1, 3, 2, 4, 1, 7, 6, 1, 2, 4, 10, 9, 9, 5, 2, 7, 1, 2, 2, 6, 5, 7, 8, 3, 1, 3, 4, 6, 1, 10, 5, 2, 7, 9, 1, 8, 2, 1, 1, 2, 2, 8, 5, 5, 7, 10, 1, 2, 6, 9, 7, 6, 9, 5, 2, 2, 4, 3, 5, 1, 4, 6, 2, 6, 7, 3, 1, 7, 2, 3]\n",
    "\n",
    "sleep_hours = [6.5, 8.0, 6.5, 8.0, 7.5, 7.5, 8.0, 6.5, 7.0, 7.0, 7.0, 8.5, 6.5, 9.5, 7.5, 6.5, 8.0, 8.0, 9.0, 7.0, 7.5, 6.5, 8.5, 6.5, 8.0, 7.0, 6.5, 8.5, 8.0, 7.0, 8.5, 8.5, 6.0, 9.5, 8.5, 8.0, 8.5, 8.0, 9.0, 6.5, 8.0, 9.0, 7.5, 9.0, 8.0, 8.5, 6.0, 8.5, 6.5, 6.0, 6.5, 7.5, 6.5, 7.5, 7.0, 9.0, 6.5, 7.5, 7.5, 8.5, 6.5, 7.0, 8.0, 8.0, 6.0, 6.0, 9.0, 6.0, 6.5, 7.5, 6.0, 7.5, 6.5, 8.0, 6.0, 9.5, 7.0, 8.5, 8.0, 6.0, 9.0, 6.5, 7.0, 8.5, 8.5, 8.0, 6.5, 8.0, 9.0, 8.0, 7.0, 8.5, 6.5, 8.5, 9.0, 9.0, 8.5, 9.0, 6.5, 8.5]"
   ]
  },
  {
   "cell_type": "code",
   "execution_count": 3,
   "id": "e8e8388f-866b-429c-b17a-53cede4cad15",
   "metadata": {},
   "outputs": [
    {
     "name": "stdout",
     "output_type": "stream",
     "text": [
      "Low usage (0-60 min): 18 users, 18.0%\n",
      "Medium usage (61-120 min): 27 users, 27.0%\n",
      "High usage (121+ min): 55 users, 55.00000000000001%\n"
     ]
    }
   ],
   "source": [
    "low_usage = 0\n",
    "medium_usage = 0\n",
    "high_usage = 0\n",
    "social_media_time = [178, 203, 154, 74, 158, 129, 237, 86, 210, 103, 26, 156, 173, 73, 233, 228, 105, 33, 151, 178, 98, 83, 160, 179, 50, 124, 71, 43, 217, 134, 156, 207, 102, 199, 210, 230, 54, 150, 140, 221, 76, 32, 47, 170, 153, 110, 130, 156, 16, 23, 75, 240, 77, 125, 134, 118, 42, 61, 238, 27, 38, 117, 15, 123, 139, 203, 95, 150, 145, 235, 160, 183, 95, 116, 91, 132, 40, 104, 109, 171, 224, 49, 42, 102, 233, 28, 227, 82, 156, 191, 228, 93, 218, 41, 238, 75, 222, 100, 236, 238]\n",
    "for time in social_media_time:\n",
    "    if time <= 60: \n",
    "        low_usage += 1\n",
    "    elif time <= 120:\n",
    "        medium_usage += 1\n",
    "    else: \n",
    "        high_usage += 1\n",
    "total_users = len(social_media_time)\n",
    "\n",
    "low_usage_percentage = (low_usage / total_users) * 100\n",
    "medium_usage_percentage = (medium_usage / total_users) * 100\n",
    "high_usage_percentage = (high_usage / total_users) * 100\n",
    "\n",
    "# Print the results\n",
    "print(f\"Low usage (0-60 min): {low_usage} users, {low_usage_percentage:}%\")\n",
    "print(f\"Medium usage (61-120 min): {medium_usage} users, {medium_usage_percentage:}%\")\n",
    "print(f\"High usage (121+ min): {high_usage} users, {high_usage_percentage:}%\")\n"
   ]
  },
  {
   "cell_type": "code",
   "execution_count": 5,
   "id": "eee541bf-4df1-44b5-acbe-555d057f538d",
   "metadata": {},
   "outputs": [
    {
     "ename": "SyntaxError",
     "evalue": "incomplete input (4257312409.py, line 13)",
     "output_type": "error",
     "traceback": [
      "\u001b[1;36m  Cell \u001b[1;32mIn[5], line 13\u001b[1;36m\u001b[0m\n\u001b[1;33m    else:\u001b[0m\n\u001b[1;37m         ^\u001b[0m\n\u001b[1;31mSyntaxError\u001b[0m\u001b[1;31m:\u001b[0m incomplete input\n"
     ]
    }
   ],
   "source": [
    "# Example code to start with:\n",
    "low_usage_mood_total= 0\n",
    "medium_usage_mood_total= 0\n",
    "high_usage_mood_total= 0\n",
    "social_media_time = [178, 203, 154, 74, 158, 129, 237, 86, 210, 103, 26, 156, 173, 73, 233, 228, 105, 33, 151, 178, 98, 83, 160, 179, 50, 124, 71, 43, 217, 134, 156, 207, 102, 199, 210, 230, 54, 150, 140, 221, 76, 32, 47, 170, 153, 110, 130, 156, 16, 23, 75, 240, 77, 125, 134, 118, 42, 61, 238, 27, 38, 117, 15, 123, 139, 203, 95, 150, 145, 235, 160, 183, 95, 116, 91, 132, 40, 104, 109, 171, 224, 49, 42, 102, 233, 28, 227, 82, 156, 191, 228, 93, 218, 41, 238, 75, 222, 100, 236, 238]\n",
    "mood_scores = [2, 1, 1, 9, 2, 6, 1, 2, 5, 10, 5, 2, 3, 4, 3, 3, 3, 9, 3, 8, 1, 2, 4, 7, 4, 7, 3, 3, 4, 6, 1, 3, 2, 4, 1, 7, 6, 1, 2, 4, 10, 9, 9, 5, 2, 7, 1, 2, 2, 6, 5, 7, 8, 3, 1, 3, 4, 6, 1, 10, 5, 2, 7, 9, 1, 8, 2, 1, 1, 2, 2, 8, 5, 5, 7, 10, 1, 2, 6, 9, 7, 6, 9, 5, 2, 2, 4, 3, 5, 1, 4, 6, 2, 6, 7, 3, 1, 7, 2, 3]\n",
    "for i in range(len(social_media_time)):\n",
    "    if social_media_time[i] <= 60:\n",
    "        low_usage_mood_total +=mood_scores[i]\n",
    "        low_usage_count += 1\n",
    "    elif social_media_time[i] <= 120:\n",
    "        medium_usage_mood_total += mood_scores[i]\n",
    "        medium_usage_count += 1\n",
    "    else:\n",
    "        high _usage_mood_total += mood_scores[I]\n",
    "        high_usage_count += 1\n",
    "    #Calculate average mood scores here\n",
    "    "
   ]
  },
  {
   "cell_type": "code",
   "execution_count": null,
   "id": "bef10389-c0cd-4a11-83a3-4164f0fea257",
   "metadata": {},
   "outputs": [],
   "source": []
  }
 ],
 "metadata": {
  "kernelspec": {
   "display_name": "Python 3 (ipykernel)",
   "language": "python",
   "name": "python3"
  },
  "language_info": {
   "codemirror_mode": {
    "name": "ipython",
    "version": 3
   },
   "file_extension": ".py",
   "mimetype": "text/x-python",
   "name": "python",
   "nbconvert_exporter": "python",
   "pygments_lexer": "ipython3",
   "version": "3.12.4"
  }
 },
 "nbformat": 4,
 "nbformat_minor": 5
}
