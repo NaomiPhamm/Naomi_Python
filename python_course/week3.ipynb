{
 "cells": [
  {
   "cell_type": "code",
   "execution_count": 1,
   "id": "c18f1cc0-145e-410b-89bf-5f3319099d7b",
   "metadata": {},
   "outputs": [
    {
     "name": "stdout",
     "output_type": "stream",
     "text": [
      "Initiating launch sequence\n",
      "launching in 10 seconds\n",
      "launching in 9 seconds\n",
      "launching in 8 seconds\n",
      "launching in 7 seconds\n",
      "launching in 6 seconds\n",
      "launching in 5 seconds\n",
      "launching in 4 seconds\n",
      "launching in 3 seconds\n",
      "launching in 2 seconds\n",
      "launching in 1 seconds\n",
      "liftoff !!!\n"
     ]
    }
   ],
   "source": [
    "import time \n",
    "\n",
    "print(\"Initiating launch sequence\")\n",
    "for i in  range(10,0,-1):\n",
    "    print(f\"launching in {i} seconds\")\n",
    "    time.sleep(1)\n",
    "print(\"liftoff !!!\")\n",
    "\n"
   ]
  },
  {
   "cell_type": "code",
   "execution_count": 2,
   "id": "87197156-cfac-49c6-8025-a3a71acd94bc",
   "metadata": {},
   "outputs": [],
   "source": [
    "#GUess the number game\n",
    "# In this game, we pick a random number between 1 and N, where N is the upper limit\n",
    "#Then we ask the user to pick a number, and we tell user if they are high or low\n",
    "#user wun the game if they guess the correct number\n"
   ]
  },
  {
   "cell_type": "code",
   "execution_count": null,
   "id": "a10cfda6-bc76-4629-92f8-55f68a93c08e",
   "metadata": {},
   "outputs": [],
   "source": [
    "import random\n",
    "\n",
    "def start_game():\n",
    "    is_debug_mode = True\n",
    "    upper_limit = 3 if is_debug_mode else 101\n",
    "    \n",
    "    magic_num = random.randint(1,upper_limit)\n",
    "    tries= 0\n",
    "    while True:\n",
    "       \n",
    "        try:\n",
    "            guess = int(input(f\"Please enter a number between {1} and {upper_limit}\"))\n",
    "        except:\n",
    "            print(\"invalid input\")\n",
    "            continue \n",
    "            tries+=1\n",
    "        if tries > 3:\n",
    "            print(\"Game over\")\n",
    "            break\n",
    "        if guess < magic_num:\n",
    "            print(\"Too low\")\n",
    "        elif guess >magic_num:\n",
    "            print(\"Too high\")\n",
    "        else:\n",
    "            print(\"horray! you got it!\")\n",
    "            break\n",
    "          \n",
    "                   \n",
    "       \n",
    "        \n",
    "    print(\"exited loop\")\n",
    "start_game()\n"
   ]
  },
  {
   "cell_type": "code",
   "execution_count": null,
   "id": "80821cea-ad81-4d48-ada8-5fefc10b28ea",
   "metadata": {},
   "outputs": [],
   "source": []
  }
 ],
 "metadata": {
  "kernelspec": {
   "display_name": "Python 3 (ipykernel)",
   "language": "python",
   "name": "python3"
  },
  "language_info": {
   "codemirror_mode": {
    "name": "ipython",
    "version": 3
   },
   "file_extension": ".py",
   "mimetype": "text/x-python",
   "name": "python",
   "nbconvert_exporter": "python",
   "pygments_lexer": "ipython3",
   "version": "3.12.4"
  }
 },
 "nbformat": 4,
 "nbformat_minor": 5
}
